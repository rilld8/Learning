{
 "cells": [
  {
   "cell_type": "markdown",
   "metadata": {},
   "source": [
    "### Rachunek prawdopodobieństwa - ćwiczenia"
   ]
  },
  {
   "cell_type": "markdown",
   "metadata": {},
   "source": [
    "Rozdział 1 - Zdarzenia losowe i prawdopodobieństwo"
   ]
  },
  {
   "cell_type": "markdown",
   "metadata": {
    "collapsed": true
   },
   "source": [
    "__1.1__ Wykazać, że dla _n_-elementowej przestrzeni zdarzeń elementarnych $\\Omega$ możemy wyróżnić $2^{n}$ zdarzeń losowych."
   ]
  },
  {
   "cell_type": "markdown",
   "metadata": {},
   "source": [
    "Jeśli przestrzeń zdarzeń ma _n_ zdarzeń elementarnych to łącznie ze zdarzeniem pewnym i niemożliwym możemy wyróżnić $2^{n}$ zdarzeń losowych."
   ]
  },
  {
   "cell_type": "markdown",
   "metadata": {
    "collapsed": true
   },
   "source": [
    "__1.2__ Prawdopodobieństwo, że do konsumenta dotrze reklama telewizyjna pewnego produktu wynosi 0,1, natomiast prawdopodobieństwo, że zauważy on billboard reklamowy na ulicy, 0,2. Oba te zarzenia są niezależne. Jakie jest prawdopodobieństwo, że do konsumenta dotrze przynajmniej jedna forma reklamy?"
   ]
  },
  {
   "cell_type": "markdown",
   "metadata": {},
   "source": [
    "Prawdopodobieństwo sumy zdarzeń niezależnych jest równe sumie prawdopodobieństw pomniejszonej o prawdopodobieństwo koniunkcji czyli 0.1 + 0.2 - 0.1*0.2 = 0.3 - 0.02 = 0.28"
   ]
  },
  {
   "cell_type": "markdown",
   "metadata": {},
   "source": [
    "__1.3__ Prawdopodobieństwo, że w najbliższym miesiącu zdrożeje bawełna wynosi 0.5, a prawdopodobieństwo że zdrożeje zboże wynosi 0.2. Wiadomo ponadto że w 10% przypadków obie ceny - bawełny i zboża - zdrożeją. Czy ceny bawełny i zboża są niezależne?"
   ]
  },
  {
   "cell_type": "markdown",
   "metadata": {},
   "source": [
    "Warunek na niezależność dwóch zdarzeń - jeśli prawdopodobieństwo zajścia obu zdarzeń na raz jest równe iloczynowi prawdopodobieństw obu zdarzeń, w tym przypadku jest spełnione -> P(A) \\* P(B) = P(A$\\cup$B) = 0.5\\*0.2 = 0.1"
   ]
  },
  {
   "cell_type": "markdown",
   "metadata": {},
   "source": [
    "__1.4__ Badając wyniki spisu powszechnego analitycy GUS stwierdzili nieprawidłowości w 10% wszystkich ankiet. Nieprawidłowości takie mogą powstać wskutek pomyłki lub celowego działania. Jeżeli wiadomo, że pojawienie się nieprawidłowości na skutek niezamierzonego działania jest równe 0.05, to jaki procent ankietowanych celowo sfałszował swoje dane? "
   ]
  },
  {
   "cell_type": "markdown",
   "metadata": {},
   "source": [
    "Sfałszowanie danych i pomyłka są zdarzeniami niezależnymi więc ich suma to ogólna liczba nieprawidłowości - 0.1. Więc sfałszowane dane to:"
   ]
  },
  {
   "cell_type": "markdown",
   "metadata": {},
   "source": [
    "0.1 - 0.05 = 0.095"
   ]
  },
  {
   "cell_type": "markdown",
   "metadata": {},
   "source": [
    "__1.5__ Pisarz chce, aby korekta jego książki dotarła do wydawnictwa najpóźniej do jutra do godziny 8:00 rano. Żeby zwiększyć szanse dotarcia książki na czas przekazał trzy egzemplarze korekty, korzystając z usług trzech firm świadczących usługi kurierskie. Pierwsza firma jest znana z tego, że wywiązuje się z dostarczania przesyłek na czas w 90%, druga w 88%, a trzecia w 91% przypadków. Jakie jest prawdopodobieństwo, że przynajmniej jeden egzemplarz korekty dotrze do wydawnictwa w wymaganym czasie? "
   ]
  },
  {
   "cell_type": "markdown",
   "metadata": {},
   "source": [
    "Prawdopodobieństwo, że chociaż jeden z kurierów dotrze na czas to zdarzenie przeciwne do zdarzenia w którym żaden z nich nie dotrze na czas:  \n",
    "$ P(K) = 1 - (1-P(A))*(1-P(B))*(1-P(C)) $"
   ]
  },
  {
   "cell_type": "code",
   "execution_count": 7,
   "metadata": {},
   "outputs": [
    {
     "data": {
      "text/plain": [
       "0.99892"
      ]
     },
     "execution_count": 7,
     "metadata": {},
     "output_type": "execute_result"
    }
   ],
   "source": [
    "1 - 0.1*0.12*0.09"
   ]
  },
  {
   "cell_type": "markdown",
   "metadata": {},
   "source": [
    "__1.6__ Rzucono dwiema kostkami do gry. Czy zdarzenie \"wyrzucenie liczby oczek których iloczyn jest podzielny przez 3\" oraz zdarzenie \"wyrzucenie liczby oczek, których suma jest parzysta\", są zdarzeniami niezależnymi?"
   ]
  },
  {
   "cell_type": "markdown",
   "metadata": {},
   "source": [
    "Warunek na niezależność zdarzeń:  \n",
    "$P(A) * P(B) = P(A) \\cap P(B)$  \n",
    "Jeśli przez A oznaczymy wyrzucenie liczby oczek, których iloczyn jest podzielny przez 3, natomiast przez B oznaczymy wyrzucenie liczby oczek których suma jest parzysta to:  \n",
    "$ P(A) = 2/6 $  \n",
    "$ P(B) = 3/6 $  \n",
    "Elementy zdarzenia A to wszystkie kombinacje liczb 3 i 6 na przynajmniej jednej kostce z jakimkolwiek wynikiem na drugiej kostce (zakładając że kolejność nie ma znaczenia) co daje nam 6 + 6 = 12 możliwych kombinacji.  \n",
    "Elementy zdarzenia B to wszystkie kombinacje liczb parzystych z obu kostek oraz wszystkie kombinacje liczb nieparzystych z obu kostek ( (2,2), (4, 4) itd. oraz (1, 1), (3, 3) itd.).\n",
    "Suma tych zdarzeń daje tylko kombinacje parzyste z 6 i nieparzyste z 3 - (2, 6), (4, 6), (6, 6), (1, 3), (3, 3), (5, 3) czyli łącznie 6 z 36 możliwych kombinacji:  \n",
    "$ P(A) \\cap P(B) = 6/36 $  \n",
    "Tak więc zdarzenia są niezależne:\n",
    "$ P(A)*P(B) = P(A) \\cap P(B) $\n"
   ]
  },
  {
   "cell_type": "markdown",
   "metadata": {},
   "source": [
    "__1.7__ Firma stara się o kotrakt w dwóch spółkach A i B. Dyrektor szacuje prawdopodobieństwo zawarca umowy ze spółką A na 0.4. Uważa też, że gdyby firma zawarła kontrakt ze spółką A to szansa na zawarcie kontraktu ze spółką B wynosiłaby aż 95%. Jaka jest szansa na zawarcie obu kotraktów?"
   ]
  },
  {
   "cell_type": "markdown",
   "metadata": {},
   "source": [
    "_Prawdopodobieństwo warunkowe_:  \n",
    "$ P(A|B) = \\frac {P(A\\cap B)} {P(B)} $  "
   ]
  },
  {
   "cell_type": "markdown",
   "metadata": {},
   "source": [
    "Przez zdarzenie B oznaczmy zawarcie kontraktu ze spółką A (gdyż znamy szansę na zawarcie kontraktu z tą spółką - 0.4). Zawarcie kontraktu ze spółką B pod warunkiem zawarcia kontraktu ze spółką A to 0.95. Tak więc zawarcie kontraktu pomiędzy obiema spółkami:  \n",
    "$ P(A \\cap B) = 0.4*0.95 = 0.38 $"
   ]
  },
  {
   "cell_type": "code",
   "execution_count": 8,
   "metadata": {},
   "outputs": [
    {
     "data": {
      "text/plain": [
       "0.38"
      ]
     },
     "execution_count": 8,
     "metadata": {},
     "output_type": "execute_result"
    }
   ],
   "source": [
    "0.4 * 0.95"
   ]
  },
  {
   "cell_type": "markdown",
   "metadata": {},
   "source": [
    "__1.8__ Wykazać, że jeżeli dwa zdarzenie A i B są niezależne to niezależne są również ich zdarzenia przeciwne - A' i B'. "
   ]
  },
  {
   "cell_type": "markdown",
   "metadata": {},
   "source": [
    "$ P(A) * P(B) = P(A \\cap B) $"
   ]
  },
  {
   "cell_type": "markdown",
   "metadata": {},
   "source": [
    "$ P(A) = 1 - P(A') $  \n",
    "$ P(B) = 1 - P(B') $  \n",
    "$ L = P(A)*P(B) = (1 - P(A'))*(1 - P(B')) = 1 + P(A')*P(B') - P(A') - P(B') => 1 - P(A') - P(B') = -P(A')*P(B')  $  \n",
    "$ R = P(A \\cap B) = P(A) + P(B) - P(A \\cup B) = 1 - P(A') - P(B') + P(A' \\cap B') => 1 - P(A') - P(B') = - P(A' \\cap B') $  \n",
    "$ L = R $"
   ]
  },
  {
   "cell_type": "markdown",
   "metadata": {},
   "source": [
    "__1.9__ Badanie w 800 firmach branży spożywczej wykazało, że 40% firm przeprowadza analizę skuteczności promocji, 60% firm dokonuje analizy wizerunku firmy na rynku, a 30% firm prowadzi oba rodzaje analiz. Określamy zdarzenia losowe następująco: A - firma analizuje skuteczność promocji, B - firma dokonuje analizy wizerunku firmy na rynku. Podać następujące prawdopodobieństwa: \n",
    "$ P(A), P(B), P(A \\cup B), P(A \\cap B), P(A|B) $"
   ]
  },
  {
   "cell_type": "markdown",
   "metadata": {},
   "source": [
    "$ P(A) = 0.4, P(B) = 0.6, P(A \\cap B) = 0.3 $  \n",
    "$ P(A \\cup B) = 0.4 + 0.6 - 0.3 = 0.7 $  \n",
    "$ P(A|B) = \\frac{P(A \\cap B)}{P(B)} = \\frac{0.3}{0.6} = 0.5 $"
   ]
  },
  {
   "cell_type": "code",
   "execution_count": 12,
   "metadata": {},
   "outputs": [
    {
     "data": {
      "text/plain": [
       "0.5"
      ]
     },
     "execution_count": 12,
     "metadata": {},
     "output_type": "execute_result"
    }
   ],
   "source": [
    "0.3/0.6 "
   ]
  },
  {
   "cell_type": "code",
   "execution_count": null,
   "metadata": {
    "collapsed": true
   },
   "outputs": [],
   "source": []
  },
  {
   "cell_type": "code",
   "execution_count": null,
   "metadata": {
    "collapsed": true
   },
   "outputs": [],
   "source": []
  },
  {
   "cell_type": "markdown",
   "metadata": {},
   "source": [
    "Rozdział 2 - Zmienna losowa jednowymiarowa"
   ]
  },
  {
   "cell_type": "code",
   "execution_count": null,
   "metadata": {
    "collapsed": true
   },
   "outputs": [],
   "source": []
  },
  {
   "cell_type": "markdown",
   "metadata": {},
   "source": [
    "Rozdział 3 - Rozkłady zmiennej losowej jednowymiarowej"
   ]
  },
  {
   "cell_type": "code",
   "execution_count": null,
   "metadata": {
    "collapsed": true
   },
   "outputs": [],
   "source": []
  },
  {
   "cell_type": "markdown",
   "metadata": {},
   "source": [
    "Rozdział 4 - Funkcje zmiennej losowej"
   ]
  },
  {
   "cell_type": "code",
   "execution_count": null,
   "metadata": {
    "collapsed": true
   },
   "outputs": [],
   "source": []
  },
  {
   "cell_type": "markdown",
   "metadata": {},
   "source": [
    "Rozdział 5 - Dwuwymiarowa zmienna losowa"
   ]
  },
  {
   "cell_type": "code",
   "execution_count": null,
   "metadata": {
    "collapsed": true
   },
   "outputs": [],
   "source": []
  },
  {
   "cell_type": "markdown",
   "metadata": {},
   "source": [
    "Rozdział 6 - Regresja I i II rodzaju"
   ]
  },
  {
   "cell_type": "code",
   "execution_count": null,
   "metadata": {
    "collapsed": true
   },
   "outputs": [],
   "source": []
  },
  {
   "cell_type": "markdown",
   "metadata": {},
   "source": [
    "Rozdział 7 - Dwuwymiarowy rozkład normalny"
   ]
  },
  {
   "cell_type": "code",
   "execution_count": null,
   "metadata": {
    "collapsed": true
   },
   "outputs": [],
   "source": []
  },
  {
   "cell_type": "markdown",
   "metadata": {},
   "source": [
    "Rozdział 8 - Funkcja tworząca prawdopodobieństwa, funkcja tworząca momenty i funkcja charakterystyczna"
   ]
  },
  {
   "cell_type": "code",
   "execution_count": null,
   "metadata": {
    "collapsed": true
   },
   "outputs": [],
   "source": []
  },
  {
   "cell_type": "markdown",
   "metadata": {},
   "source": [
    "Rozdział 9 - Nierówność Czebyszewa, prawo wielkich liczb i twierdzenia graniczne"
   ]
  },
  {
   "cell_type": "code",
   "execution_count": null,
   "metadata": {
    "collapsed": true
   },
   "outputs": [],
   "source": []
  }
 ],
 "metadata": {
  "kernelspec": {
   "display_name": "Python 3",
   "language": "python",
   "name": "python3"
  },
  "language_info": {
   "codemirror_mode": {
    "name": "ipython",
    "version": 3
   },
   "file_extension": ".py",
   "mimetype": "text/x-python",
   "name": "python",
   "nbconvert_exporter": "python",
   "pygments_lexer": "ipython3",
   "version": "3.6.1"
  }
 },
 "nbformat": 4,
 "nbformat_minor": 2
}
