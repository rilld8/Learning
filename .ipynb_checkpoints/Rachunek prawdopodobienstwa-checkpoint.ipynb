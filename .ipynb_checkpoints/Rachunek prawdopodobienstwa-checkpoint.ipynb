{
 "cells": [
  {
   "cell_type": "markdown",
   "metadata": {},
   "source": [
    "### Rachunek prawdopodobieństwa - ćwiczenia"
   ]
  },
  {
   "cell_type": "markdown",
   "metadata": {},
   "source": [
    "Rozdział 1 - Zdarzenia losowe i prawdopodobieństwo"
   ]
  },
  {
   "cell_type": "markdown",
   "metadata": {
    "collapsed": true
   },
   "source": [
    "__1.1__ Wykazać, że dla _n_-elementowej przestrzeni zdarzeń elementarnych $\\Omega$ możemy wyróżnić $2^{n}$ zdarzeń losowych."
   ]
  },
  {
   "cell_type": "markdown",
   "metadata": {},
   "source": [
    "Jeśli przestrzeń zdarzeń ma _n_ zdarzeń elementarnych to łącznie ze zdarzeniem pewnym i niemożliwym możemy wyróżnić $2^{n}$ zdarzeń losowych."
   ]
  },
  {
   "cell_type": "markdown",
   "metadata": {
    "collapsed": true
   },
   "source": [
    "__1.2__ Prawdopodobieństwo, że do konsumenta dotrze reklama telewizyjna pewnego produktu wynosi 0,1, natomiast prawdopodobieństwo, że zauważy on billboard reklamowy na ulicy, 0,2. Oba te zarzenia są niezależne. Jakie jest prawdopodobieństwo, że do konsumenta dotrze przynajmniej jedna forma reklamy?"
   ]
  },
  {
   "cell_type": "markdown",
   "metadata": {},
   "source": [
    "Prawdopodobieństwo sumy zdarzeń niezależnych jest równe sumie prawdopodobieństw pomniejszonej o prawdopodobieństwo koniunkcji czyli 0.1 + 0.2 - 0.1*0.2 = 0.3 - 0.02 = 0.28"
   ]
  },
  {
   "cell_type": "markdown",
   "metadata": {},
   "source": [
    "__1.3__ Prawdopodobieństwo, że w najbliższym miesiącu zdrożeje bawełna wynosi 0.5, a prawdopodobieństwo że zdrożeje zboże wynosi 0.2. Wiadomo ponadto że w 10% przypadków obie ceny - bawełny i zboża - zdrożeją. Czy ceny bawełny i zboża są niezależne?"
   ]
  },
  {
   "cell_type": "markdown",
   "metadata": {},
   "source": [
    "Warunek na niezależność dwóch zdarzeń - jeśli prawdopodobieństwo zajścia obu zdarzeń na raz jest równe iloczynowi prawdopodobieństw obu zdarzeń, w tym przypadku jest spełnione -> P(A) \\* P(B) = P(A$\\cup$B) = 0.5\\*0.2 = 0.1"
   ]
  },
  {
   "cell_type": "markdown",
   "metadata": {},
   "source": [
    "__1.4__ Badając wyniki spisu powszechnego analitycy GUS stwierdzili nieprawidłowości w 10% wszystkich ankiet. Nieprawidłowości takie mogą powstać wskutek pomyłki lub celowego działania. Jeżeli wiadomo, że pojawienie się nieprawidłowości na skutek niezamierzonego działania jest równe 0.05, to jaki procent ankietowanych celowo sfałszował swoje dane? "
   ]
  },
  {
   "cell_type": "markdown",
   "metadata": {},
   "source": [
    "Sfałszowanie danych i pomyłka są zdarzeniami niezależnymi więc ich suma to ogólna liczba nieprawidłowości - 0.1. Więc sfałszowane dane to:"
   ]
  },
  {
   "cell_type": "markdown",
   "metadata": {},
   "source": [
    "0.1 - 0.05 = 0.095"
   ]
  },
  {
   "cell_type": "markdown",
   "metadata": {},
   "source": [
    "__1.5__ Pisarz chce, aby korekta jego książki dotarła do wydawnictwa najpóźniej do jutra do godziny 8:00 rano. Żeby zwiększyć szanse dotarcia książki na czas przekazał trzy egzemplarze korekty, korzystając z usług trzech firm świadczących usługi kurierskie. Pierwsza firma jest znana z tego, że wywiązuje się z dostarczania przesyłek na czas w 90%, druga w 88%, a trzecia w 91% przypadków. Jakie jest prawdopodobieństwo, że przynajmniej jeden egzemplarz korekty dotrze do wydawnictwa w wymaganym czasie? "
   ]
  },
  {
   "cell_type": "markdown",
   "metadata": {},
   "source": [
    "Prawdopodobieństwo, że chociaż jeden z kurierów dotrze na czas to zdarzenie przeciwne do zdarzenia w którym żaden z nich nie dotrze na czas:  \n",
    "$ P(K) = 1 - (1-P(A))*(1-P(B))*(1-P(C)) $"
   ]
  },
  {
   "cell_type": "code",
   "execution_count": 7,
   "metadata": {},
   "outputs": [
    {
     "data": {
      "text/plain": [
       "0.99892"
      ]
     },
     "execution_count": 7,
     "metadata": {},
     "output_type": "execute_result"
    }
   ],
   "source": [
    "1 - 0.1*0.12*0.09"
   ]
  },
  {
   "cell_type": "code",
   "execution_count": null,
   "metadata": {
    "collapsed": true
   },
   "outputs": [],
   "source": []
  },
  {
   "cell_type": "code",
   "execution_count": null,
   "metadata": {
    "collapsed": true
   },
   "outputs": [],
   "source": []
  },
  {
   "cell_type": "markdown",
   "metadata": {},
   "source": [
    "Rozdział 2 - Zmienna losowa jednowymiarowa"
   ]
  },
  {
   "cell_type": "code",
   "execution_count": null,
   "metadata": {
    "collapsed": true
   },
   "outputs": [],
   "source": []
  },
  {
   "cell_type": "markdown",
   "metadata": {},
   "source": [
    "Rozdział 3 - Rozkłady zmiennej losowej jednowymiarowej"
   ]
  },
  {
   "cell_type": "code",
   "execution_count": null,
   "metadata": {
    "collapsed": true
   },
   "outputs": [],
   "source": []
  },
  {
   "cell_type": "markdown",
   "metadata": {},
   "source": [
    "Rozdział 4 - Funkcje zmiennej losowej"
   ]
  },
  {
   "cell_type": "code",
   "execution_count": null,
   "metadata": {
    "collapsed": true
   },
   "outputs": [],
   "source": []
  },
  {
   "cell_type": "markdown",
   "metadata": {},
   "source": [
    "Rozdział 5 - Dwuwymiarowa zmienna losowa"
   ]
  },
  {
   "cell_type": "code",
   "execution_count": null,
   "metadata": {
    "collapsed": true
   },
   "outputs": [],
   "source": []
  },
  {
   "cell_type": "markdown",
   "metadata": {},
   "source": [
    "Rozdział 6 - Regresja I i II rodzaju"
   ]
  },
  {
   "cell_type": "code",
   "execution_count": null,
   "metadata": {
    "collapsed": true
   },
   "outputs": [],
   "source": []
  },
  {
   "cell_type": "markdown",
   "metadata": {},
   "source": [
    "Rozdział 7 - Dwuwymiarowy rozkład normalny"
   ]
  },
  {
   "cell_type": "code",
   "execution_count": null,
   "metadata": {
    "collapsed": true
   },
   "outputs": [],
   "source": []
  },
  {
   "cell_type": "markdown",
   "metadata": {},
   "source": [
    "Rozdział 8 - Funkcja tworząca prawdopodobieństwa, funkcja tworząca momenty i funkcja charakterystyczna"
   ]
  },
  {
   "cell_type": "code",
   "execution_count": null,
   "metadata": {
    "collapsed": true
   },
   "outputs": [],
   "source": []
  },
  {
   "cell_type": "markdown",
   "metadata": {},
   "source": [
    "Rozdział 9 - Nierówność Czebyszewa, prawo wielkich liczb i twierdzenia graniczne"
   ]
  },
  {
   "cell_type": "code",
   "execution_count": null,
   "metadata": {
    "collapsed": true
   },
   "outputs": [],
   "source": []
  }
 ],
 "metadata": {
  "kernelspec": {
   "display_name": "Python 3",
   "language": "python",
   "name": "python3"
  },
  "language_info": {
   "codemirror_mode": {
    "name": "ipython",
    "version": 3
   },
   "file_extension": ".py",
   "mimetype": "text/x-python",
   "name": "python",
   "nbconvert_exporter": "python",
   "pygments_lexer": "ipython3",
   "version": "3.6.1"
  }
 },
 "nbformat": 4,
 "nbformat_minor": 2
}
